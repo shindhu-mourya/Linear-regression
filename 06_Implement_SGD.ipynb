{
 "cells": [
  {
   "cell_type": "code",
   "execution_count": 23,
   "metadata": {
    "colab": {},
    "colab_type": "code",
    "id": "REYPoTJ1Af7u"
   },
   "outputs": [],
   "source": [
    "import warnings\n",
    "warnings.filterwarnings(\"ignore\")\n",
    "from sklearn.datasets import load_boston\n",
    "from random import seed\n",
    "from random import randrange\n",
    "from csv import reader\n",
    "from math import sqrt\n",
    "from sklearn import preprocessing\n",
    "import pandas as pd\n",
    "import numpy as np\n",
    "import matplotlib.pyplot as plt\n",
    "from prettytable import PrettyTable\n",
    "from sklearn.linear_model import SGDRegressor\n",
    "from sklearn import preprocessing\n",
    "from sklearn.metrics import mean_squared_error"
   ]
  },
  {
   "cell_type": "code",
   "execution_count": 24,
   "metadata": {
    "colab": {},
    "colab_type": "code",
    "id": "NTQ2iH-kAwbo"
   },
   "outputs": [],
   "source": [
    "X = load_boston().data\n",
    "Y = load_boston().target"
   ]
  },
  {
   "cell_type": "code",
   "execution_count": 26,
   "metadata": {
    "colab": {},
    "colab_type": "code",
    "id": "FgUW39s6Be0U"
   },
   "outputs": [],
   "source": [
    "scaler = preprocessing.StandardScaler().fit(X)\n",
    "X = scaler.transform(X)"
   ]
  },
  {
   "cell_type": "code",
   "execution_count": 27,
   "metadata": {
    "colab": {
     "base_uri": "https://localhost:8080/",
     "height": 34
    },
    "colab_type": "code",
    "executionInfo": {
     "elapsed": 879,
     "status": "ok",
     "timestamp": 1545718892607,
     "user": {
      "displayName": "Applied AI Course",
      "photoUrl": "https://lh5.googleusercontent.com/-9_3A9F-kDXs/AAAAAAAAAAI/AAAAAAAAACw/IprjYvUuoXQ/s64/photo.jpg",
      "userId": "00484516897554883881"
     },
     "user_tz": -330
    },
    "id": "HNu1sXtEBBS2",
    "outputId": "a0c5d3d0-345c-4a34-8ccf-0d9f3d7d23fd",
    "scrolled": true
   },
   "outputs": [
    {
     "name": "stdout",
     "output_type": "stream",
     "text": [
      "22.671507433665266\n"
     ]
    }
   ],
   "source": [
    "clf = SGDRegressor()\n",
    "clf.fit(X, Y)\n",
    "print(mean_squared_error(Y, clf.predict(X)))"
   ]
  },
  {
   "cell_type": "code",
   "execution_count": 28,
   "metadata": {
    "scrolled": false
   },
   "outputs": [
    {
     "data": {
      "text/plain": [
       "array([-0.65782215,  0.69220463, -0.3875049 ,  0.79180405, -0.9731496 ,\n",
       "        3.14578327, -0.06758432, -2.17234951,  1.01459901, -0.68197219,\n",
       "       -1.83869529,  0.89040915, -3.51316493])"
      ]
     },
     "execution_count": 28,
     "metadata": {},
     "output_type": "execute_result"
    }
   ],
   "source": [
    "#optimal w by using SGDRegressor of sklearn\n",
    "clf.coef_"
   ]
  },
  {
   "cell_type": "code",
   "execution_count": 29,
   "metadata": {},
   "outputs": [
    {
     "data": {
      "text/plain": [
       "(506, 1)"
      ]
     },
     "execution_count": 29,
     "metadata": {},
     "output_type": "execute_result"
    }
   ],
   "source": [
    "#making Y as an array with dimension of (506,1)\n",
    "Y1 = np.array([Y])\n",
    "Y1 = Y1.T\n",
    "Y1.shape"
   ]
  },
  {
   "cell_type": "markdown",
   "metadata": {},
   "source": [
    "<h3>Plotting a chart of predicted values Vs actual values of SGDRegresser of sklearn</h3>"
   ]
  },
  {
   "cell_type": "code",
   "execution_count": 30,
   "metadata": {},
   "outputs": [
    {
     "data": {
      "image/png": "[encoded data removed]",
      "text/plain": [
       "<Figure size 432x288 with 1 Axes>"
      ]
     },
     "metadata": {},
     "output_type": "display_data"
    }
   ],
   "source": [
    "import matplotlib.pyplot as plt\n",
    "\n",
    "plt.scatter(clf.predict(X), Y, color = 'red')\n",
    "plt.title('predicted values Vs actual values')\n",
    "plt.xlabel('predicted values')\n",
    "plt.ylabel('actual values')\n",
    "plt.show()\n"
   ]
  },
  {
   "cell_type": "code",
   "execution_count": 31,
   "metadata": {},
   "outputs": [],
   "source": [
    "#observation:In the above plot, most of the predicated_Y values and actual_Y values are overlapping"
   ]
  },
  {
   "cell_type": "code",
   "execution_count": 35,
   "metadata": {},
   "outputs": [
    {
     "name": "stdout",
     "output_type": "stream",
     "text": [
      "mean square error is 21.956871902749725\n"
     ]
    }
   ],
   "source": [
    "#implementing SGD on load_boston datasets\n",
    "\n",
    "w = np.array([[0,0,0,0,0,0,0,0,0,0,0,0,0]])#weight vector\n",
    "b = np.array([[0]])#intercept\n",
    "r = 0.01#learning rate\n",
    "d2 = np.array([[0]])\n",
    "X1 = X\n",
    "def pred_w(w,b,X2,Y2):#this function calculate dl/dw by taking batch_size(k) = n data points \n",
    "    v4 = np.array([[0,0,0,0,0,0,0,0,0,0,0,0,0]])\n",
    "    k = len(X2)\n",
    "    for p in range(0,k):\n",
    "        v1 = -2*X2[[p]]\n",
    "        v2 = np.dot(X2[[p]],w.T)\n",
    "        v3 = Y2[[p]] - v2 - b\n",
    "        v4 = v4 + np.dot(v3,v1)\n",
    "    return v4/k \n",
    "\n",
    "def pred_b(w,b,X2,Y2):#this function calculate dl/db by taking batch_size(k) = n data points\n",
    "    x1 = np.array([[0]])\n",
    "    k = len(X2)\n",
    "    for p in range(0,k):\n",
    "        x2 = np.dot(X2[[p]],w.T)\n",
    "        x3 = Y2[[p]] - x2 - b\n",
    "        x1 = x1 + -2*x3\n",
    "    return x1/k\n",
    "\n",
    "for i in range(0,1000):#1000 epochs are used to find optimal w* and b*\n",
    "    w = w - r*pred_w(w,b,X1,Y1)\n",
    "    b = b - r*pred_b(w,b,X1,Y1)     \n",
    "for i in range(0,506):#this loop is used calculate mean square error with optimal value of w* and b*\n",
    "    d1 = Y[[i]] - (np.dot(X[[i]],w.T) + b)\n",
    "    d2 = d2 + d1*d1\n",
    "d3 = d2/506\n",
    "print(\"mean square error is \"+str(d3[0][0]))  "
   ]
  },
  {
   "cell_type": "code",
   "execution_count": 11,
   "metadata": {},
   "outputs": [
    {
     "data": {
      "text/plain": [
       "array([-0.86502817,  0.98458343, -0.09241126,  0.71544891, -1.94161996,\n",
       "        2.73414667, -0.02709495, -3.05571367,  2.04626934, -1.41192996,\n",
       "       -2.02590111,  0.85696845, -3.72001961])"
      ]
     },
     "execution_count": 11,
     "metadata": {},
     "output_type": "execute_result"
    }
   ],
   "source": [
    "#optimal w of own implemented sgd\n",
    "w[0]"
   ]
  },
  {
   "cell_type": "markdown",
   "metadata": {},
   "source": [
    "<h3>Plotting a chart of predicted values Vs actual values of own SGD Implementation</h3>"
   ]
  },
  {
   "cell_type": "code",
   "execution_count": 74,
   "metadata": {},
   "outputs": [],
   "source": [
    "y_pred = np.array([0])\n",
    "for i in range(0,506):\n",
    "    y_pred = np.dot(X,w.T) + b#here y_pred has dimension of (506,1)\n",
    "y_pred = y_pred.T#here y_pred has dimension of (1,506)\n",
    "y_pred = y_pred[0]#here y_pred has dimension of(506,).This is done because actual_Y has also dimension of (506,)"
   ]
  },
  {
   "cell_type": "code",
   "execution_count": 75,
   "metadata": {},
   "outputs": [
    {
     "data": {
      "image/png": "[encoded data removed]",
      "text/plain": [
       "<Figure size 432x288 with 1 Axes>"
      ]
     },
     "metadata": {},
     "output_type": "display_data"
    }
   ],
   "source": [
    "import matplotlib.pyplot as plt\n",
    "\n",
    "plt.scatter(y_pred, Y, color = 'red')\n",
    "plt.title('predicted values Vs actual values')\n",
    "plt.xlabel('predicted values')\n",
    "plt.ylabel('actual values')\n",
    "plt.show()"
   ]
  },
  {
   "cell_type": "code",
   "execution_count": 76,
   "metadata": {},
   "outputs": [],
   "source": [
    "#observation:In the above plot, most of the predicated_Y values and actual_Y values are overlapping"
   ]
  },
  {
   "cell_type": "code",
   "execution_count": 77,
   "metadata": {},
   "outputs": [
    {
     "name": "stdout",
     "output_type": "stream",
     "text": [
      "+------------------------------------+--------------------------------+\n",
      "| weights of SGDRegresser of sklearn | weights of own Implemented SGD |\n",
      "+------------------------------------+--------------------------------+\n",
      "|            -0.58064815             |          -0.86502817           |\n",
      "|             0.5432434              |           0.98458343           |\n",
      "|            -0.32200154             |          -0.09241126           |\n",
      "|             0.76125178             |           0.71544891           |\n",
      "|            -1.19245234             |          -1.94161996           |\n",
      "|             3.08067451             |           2.73414667           |\n",
      "|            -0.12607766             |          -0.02709495           |\n",
      "|            -2.12259154             |          -3.05571367           |\n",
      "|             0.8586491              |           2.04626934           |\n",
      "|            -0.52013375             |          -1.41192996           |\n",
      "|             -1.8143906             |          -2.02590111           |\n",
      "|             0.87640027             |           0.85696845           |\n",
      "|            -3.45060909             |          -3.72001961           |\n",
      "+------------------------------------+--------------------------------+\n"
     ]
    }
   ],
   "source": [
    "#this is the comparision between each elements of weight vector\n",
    "\n",
    "from prettytable import PrettyTable\n",
    "    \n",
    "x = PrettyTable()\n",
    "\n",
    "x.field_names = [\"weights of SGDRegresser of sklearn\", \"weights of own Implemented SGD\"]\n",
    "\n",
    "x.add_row([-0.58064815, -0.86502817])\n",
    "x.add_row([0.5432434, 0.98458343])\n",
    "x.add_row([-0.32200154, -0.09241126])\n",
    "x.add_row([0.76125178, 0.71544891])\n",
    "x.add_row([-1.19245234, -1.94161996])\n",
    "x.add_row([3.08067451, 2.73414667])\n",
    "x.add_row([-0.12607766, -0.02709495])\n",
    "x.add_row([-2.12259154, -3.05571367])\n",
    "x.add_row([0.8586491, 2.04626934])\n",
    "x.add_row([-0.52013375, -1.41192996])\n",
    "x.add_row([-1.8143906, -2.02590111])\n",
    "x.add_row([0.87640027, 0.85696845])\n",
    "x.add_row([-3.45060909, -3.72001961])\n",
    "print(x)"
   ]
  },
  {
   "cell_type": "code",
   "execution_count": 78,
   "metadata": {},
   "outputs": [
    {
     "name": "stdout",
     "output_type": "stream",
     "text": [
      "+-------------------------+--------+\n",
      "|          Model          |  MSE   |\n",
      "+-------------------------+--------+\n",
      "| SGDRegresser of sklearn | 22.728 |\n",
      "|   own Implemented SGD   | 21.956 |\n",
      "+-------------------------+--------+\n"
     ]
    }
   ],
   "source": [
    "#comparision between MSE of sdgRegression of sklearn and MSE of own implemented sgd\n",
    "\n",
    "from prettytable import PrettyTable\n",
    "    \n",
    "x = PrettyTable()\n",
    "\n",
    "x.field_names = [\"Model\", \"MSE\"]\n",
    "\n",
    "x.add_row([\"SGDRegresser of sklearn\", 22.728])\n",
    "x.add_row([\"own Implemented SGD\", 21.956])\n",
    "print(x)"
   ]
  }
 ],
 "metadata": {
  "colab": {
   "name": "Untitled3.ipynb",
   "provenance": [],
   "version": "0.3.2"
  },
  "kernelspec": {
   "display_name": "Python 3",
   "language": "python",
   "name": "python3"
  },
  "language_info": {
   "codemirror_mode": {
    "name": "ipython",
    "version": 3
   },
   "file_extension": ".py",
   "mimetype": "text/x-python",
   "name": "python",
   "nbconvert_exporter": "python",
   "pygments_lexer": "ipython3",
   "version": "3.6.5"
  }
 },
 "nbformat": 4,
 "nbformat_minor": 1
}
